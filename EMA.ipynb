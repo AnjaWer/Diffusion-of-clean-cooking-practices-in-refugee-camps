{
 "cells": [
  {
   "cell_type": "code",
   "execution_count": 1,
   "metadata": {},
   "outputs": [],
   "source": [
    "import numpy as np\n",
    "import pandas as pd\n",
    "import matplotlib.pyplot as plt\n",
    "import networkx as nx \n",
    "from mesa import Agent, Model\n",
    "from mesa.time import RandomActivation\n",
    "from mesa.space import SingleGrid\n",
    "from mesa.space import NetworkGrid\n",
    "from mesa.datacollection import DataCollector\n",
    "from ema_workbench import (Model, RealParameter, IntegerParameter, CategoricalParameter, ScalarOutcome, TimeSeriesOutcome)\n",
    "from ema_workbench import MultiprocessingEvaluator, ema_logging\n",
    "from ema_workbench.analysis import prim\n",
    "from ema_workbench import save_results\n",
    "from ema_workbench import load_results"
   ]
  },
  {
   "cell_type": "code",
   "execution_count": 56,
   "metadata": {},
   "outputs": [],
   "source": [
    "# define interventions\n",
    "p0 = {'cash_transfer': 0, 'vouchers': 0, 'info_campaign': 0, 'maintenance_capacity': 0}\n",
    "\n",
    "p1 = {'cash_transfer': 4000, 'vouchers': 0, 'info_campaign': 0, 'maintenance_capacity': 0}\n",
    "p2 = {'cash_transfer': 4000, 'vouchers': 0, 'info_campaign': 5, 'maintenance_capacity': 0}\n",
    "p3 = {'cash_transfer': 4000, 'vouchers': 0, 'info_campaign': 0, 'maintenance_capacity': 5}\n",
    "p4 = {'cash_transfer': 4000, 'vouchers': 0, 'info_campaign': 5, 'maintenance_capacity': 5}\n",
    "\n",
    "p5 = {'cash_transfer':0, 'vouchers': 4000, 'info_campaign': 0, 'maintenance_capacity': 0}\n",
    "p6 = {'cash_transfer':0, 'vouchers': 4000, 'info_campaign': 5, 'maintenance_capacity': 0}\n",
    "p7 = {'cash_transfer': 0, 'vouchers': 4000, 'info_campaign': 0, 'maintenance_capacity': 5}\n",
    "p8 = {'cash_transfer':0, 'vouchers': 4000, 'info_campaign': 5, 'maintenance_capacity': 5}\n",
    "\n",
    "# choose one intervention for the experiments\n",
    "p = p1"
   ]
  },
  {
   "cell_type": "code",
   "execution_count": 57,
   "metadata": {},
   "outputs": [],
   "source": [
    "# from Model import diffusion_model\n",
    "from Model import DiffusionModel, Household\n",
    "seed1 = 44\n",
    "np.random.seed(seed1)\n",
    "\n",
    "def diffusion_model(seed = seed1, initial_adopters =  0.025, cash_transfer = p['cash_transfer'], vouchers= p['vouchers'], info_campaign = p['info_campaign'], maintenance_capacity=p['maintenance_capacity'], \n",
    "                    N=380, avg_node_degree=6, p_rewiring=0.2, r_discount=0.1, atp=0.035, p_bad_performance=0.01, p_imitators=0.0, p_optimizers=0.0, p_advice_seekers=0.0, \n",
    "                    p_supply_delay = 0, price_tf=1500, price_cf=6000, price_shock = 0, n_cf_price_shock = 0, steps=150):\n",
    "    model = DiffusionModel(seed, initial_adopters, cash_transfer, vouchers, info_campaign, maintenance_capacity, \n",
    "                           N, avg_node_degree, p_rewiring, r_discount, atp, p_bad_performance, \n",
    "                           p_imitators, p_optimizers, p_advice_seekers, p_supply_delay, price_tf, price_cf, price_shock, n_cf_price_shock)\n",
    "    # Run the model\n",
    "    model.run_model(steps)\n",
    "    data = model.datacollector.get_model_vars_dataframe().reset_index()\n",
    "\n",
    "    return data.iloc[-1].Adoption, data.Adoption, data.Rejection, data.Ignorance, data.Decision, data.Awareness"
   ]
  },
  {
   "cell_type": "code",
   "execution_count": 58,
   "metadata": {},
   "outputs": [],
   "source": [
    "#instantiate the model\n",
    "model = Model('diffusion', function=diffusion_model)\n",
    "\n",
    "#specify uncertainties\n",
    "model.uncertainties = [RealParameter('p_bad_performance', 0, 0.02),\n",
    "                        RealParameter('atp', 0, 0.05),\n",
    "                        RealParameter('r_discount', 0.0, 0.1),\n",
    "                        IntegerParameter('avg_node_degree', 4, 12),\n",
    "                        RealParameter('p_rewiring', 0.1, 0.9)]\n",
    "#                        RealParameter('price_shock', -0.2, 0.2),\n",
    "#                        IntegerParameter('n_cf_price_shock', 0, 6),\n",
    "#                         RealParameter('p_supply_delay', 0, 0.02),\n",
    "#                         RealParameter('p_advice_seekers', 0, 0.25),\n",
    "#                          RealParameter('p_optimizers', 0, 0.25),\n",
    "#                         RealParameter('p_imitators', 0, 0.25)]\n",
    "\n",
    "\n",
    "#specify outcomes \n",
    "model.outcomes = [ScalarOutcome('Final number of adopters'),\n",
    "                  TimeSeriesOutcome('Adoption'),\n",
    "                  TimeSeriesOutcome('Rejection'),\n",
    "                  TimeSeriesOutcome('Ignorance'),\n",
    "                  TimeSeriesOutcome('Decision'),\n",
    "                  TimeSeriesOutcome('Awareness')]"
   ]
  },
  {
   "cell_type": "code",
   "execution_count": 2,
   "metadata": {},
   "outputs": [],
   "source": [
    "from ema_workbench import SequentialEvaluator\n",
    "ema_logging.log_to_stderr(ema_logging.INFO)\n",
    "\n",
    "n_scenarios = 2000\n",
    "\n",
    "with MultiprocessingEvaluator(model) as evaluator:\n",
    "    experiments, outcomes = evaluator.perform_experiments(n_scenarios)\n",
    "\n",
    "# results = experiments, outcomes\n",
    "# save_results(results, 'Results/final 100 scenarios p1 base0025ini 380.tar.gz')"
   ]
  },
  {
   "cell_type": "code",
   "execution_count": 3,
   "metadata": {},
   "outputs": [],
   "source": [
    "# experiments, outcomes = load_results('Results/final 100 scenarios p0 base0025ini 380.tar.gz')"
   ]
  },
  {
   "cell_type": "code",
   "execution_count": 4,
   "metadata": {},
   "outputs": [],
   "source": [
    "from ema_workbench.analysis import plotting, plotting_util\n",
    "\n",
    "for outcome in outcomes.keys():\n",
    "    if outcome == 'Adoption':\n",
    "        plotting.lines(experiments, outcomes, titles = None, outcomes_to_show=outcome)\n",
    "\n",
    "plt.xlabel('Time step [weeks]')\n",
    "plt.ylabel('Number of adopters')\n",
    "plt.ylim(0, 400)\n",
    "# plt.savefig('Pictures/Model results 2/final 100 scenarios p1 base0025ini 380', dpi = 300)\n",
    "plt.show()"
   ]
  },
  {
   "cell_type": "code",
   "execution_count": 5,
   "metadata": {},
   "outputs": [],
   "source": [
    "final_adoption =  outcomes['Final number of adopters']\n",
    "\n",
    "y = final_adoption > np.percentile(final_adoption, 75)\n",
    "prim_alg = prim.Prim(experiments, y, threshold=0.8, peel_alpha = 0.1)\n",
    "box1 = prim_alg.find_box()"
   ]
  },
  {
   "cell_type": "code",
   "execution_count": 6,
   "metadata": {},
   "outputs": [
    {
     "data": {
      "image/png": "[encoded data removed]",
      "text/plain": [
       "<Figure size 432x288 with 2 Axes>"
      ]
     },
     "metadata": {
      "needs_background": "light"
     },
     "output_type": "display_data"
    }
   ],
   "source": [
    "box1.show_tradeoff()\n",
    "plt.show()"
   ]
  },
  {
   "cell_type": "code",
   "execution_count": 7,
   "metadata": {},
   "outputs": [
    {
     "data": {
      "image/png": "[encoded data removed]",
      "text/plain": [
       "<Figure size 432x288 with 1 Axes>"
      ]
     },
     "metadata": {
      "needs_background": "light"
     },
     "output_type": "display_data"
    }
   ],
   "source": [
    "box1.inspect(style='graph')\n",
    "plt.show()"
   ]
  }
 ],
 "metadata": {
  "kernelspec": {
   "display_name": "Python 3",
   "language": "python",
   "name": "python3"
  },
  "language_info": {
   "codemirror_mode": {
    "name": "ipython",
    "version": 3
   },
   "file_extension": ".py",
   "mimetype": "text/x-python",
   "name": "python",
   "nbconvert_exporter": "python",
   "pygments_lexer": "ipython3",
   "version": "3.7.3"
  }
 },
 "nbformat": 4,
 "nbformat_minor": 4
}
